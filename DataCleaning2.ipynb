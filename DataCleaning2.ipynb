{
  "nbformat": 4,
  "nbformat_minor": 0,
  "metadata": {
    "colab": {
      "name": "DataCleaning2.ipynb",
      "version": "0.3.2",
      "provenance": [],
      "toc_visible": true,
      "include_colab_link": true
    },
    "kernelspec": {
      "name": "python3",
      "display_name": "Python 3"
    },
    "accelerator": "GPU"
  },
  "cells": [
    {
      "cell_type": "markdown",
      "metadata": {
        "id": "view-in-github",
        "colab_type": "text"
      },
      "source": [
        "<a href=\"https://colab.research.google.com/github/bhrantav/python/blob/master/DataCleaning2.ipynb\" target=\"_parent\"><img src=\"https://colab.research.google.com/assets/colab-badge.svg\" alt=\"Open In Colab\"/></a>"
      ]
    },
    {
      "cell_type": "markdown",
      "metadata": {
        "id": "wzEbSD42ni85",
        "colab_type": "text"
      },
      "source": [
        "## Import pandas and google colab file"
      ]
    },
    {
      "cell_type": "code",
      "metadata": {
        "id": "h8PE_QT4x3_4",
        "colab_type": "code",
        "colab": {}
      },
      "source": [
        "import pandas as pd\n",
        "from google.colab import files\n",
        "#files.upload()"
      ],
      "execution_count": 0,
      "outputs": []
    },
    {
      "cell_type": "markdown",
      "metadata": {
        "id": "hMj5knU4nrf-",
        "colab_type": "text"
      },
      "source": [
        "## Reading CSV file and checking few records"
      ]
    },
    {
      "cell_type": "code",
      "metadata": {
        "id": "7AKL6XkOx_NM",
        "colab_type": "code",
        "outputId": "049d9879-ec92-4768-ae27-da9c81789714",
        "colab": {
          "base_uri": "https://localhost:8080/",
          "height": 204
        }
      },
      "source": [
        "dataset = pd.read_csv(\"JaldhiProduct3.csv\")\n",
        "dataset.head()"
      ],
      "execution_count": 0,
      "outputs": [
        {
          "output_type": "execute_result",
          "data": {
            "text/html": [
              "<div>\n",
              "<style scoped>\n",
              "    .dataframe tbody tr th:only-of-type {\n",
              "        vertical-align: middle;\n",
              "    }\n",
              "\n",
              "    .dataframe tbody tr th {\n",
              "        vertical-align: top;\n",
              "    }\n",
              "\n",
              "    .dataframe thead th {\n",
              "        text-align: right;\n",
              "    }\n",
              "</style>\n",
              "<table border=\"1\" class=\"dataframe\">\n",
              "  <thead>\n",
              "    <tr style=\"text-align: right;\">\n",
              "      <th></th>\n",
              "      <th>Rating</th>\n",
              "      <th>Review</th>\n",
              "      <th>User Name</th>\n",
              "    </tr>\n",
              "  </thead>\n",
              "  <tbody>\n",
              "    <tr>\n",
              "      <th>0</th>\n",
              "      <td>5</td>\n",
              "      <td>fall in love with this beauty 😍</td>\n",
              "      <td>krish</td>\n",
              "    </tr>\n",
              "    <tr>\n",
              "      <th>1</th>\n",
              "      <td>3</td>\n",
              "      <td>just wow</td>\n",
              "      <td>Akil Shaikh</td>\n",
              "    </tr>\n",
              "    <tr>\n",
              "      <th>2</th>\n",
              "      <td>5</td>\n",
              "      <td>awesome camera</td>\n",
              "      <td>Flipkart Customer</td>\n",
              "    </tr>\n",
              "    <tr>\n",
              "      <th>3</th>\n",
              "      <td>5</td>\n",
              "      <td>best smartphone love it thanks flipkart best d...</td>\n",
              "      <td>saddam husain</td>\n",
              "    </tr>\n",
              "    <tr>\n",
              "      <th>4</th>\n",
              "      <td>5</td>\n",
              "      <td>If looks can kill then this phone is a Killer....</td>\n",
              "      <td>Pritish Sahoo</td>\n",
              "    </tr>\n",
              "  </tbody>\n",
              "</table>\n",
              "</div>"
            ],
            "text/plain": [
              "   Rating                                             Review          User Name\n",
              "0       5                    fall in love with this beauty 😍              krish\n",
              "1       3                                           just wow        Akil Shaikh\n",
              "2       5                                     awesome camera  Flipkart Customer\n",
              "3       5  best smartphone love it thanks flipkart best d...      saddam husain\n",
              "4       5  If looks can kill then this phone is a Killer....      Pritish Sahoo"
            ]
          },
          "metadata": {
            "tags": []
          },
          "execution_count": 52
        }
      ]
    },
    {
      "cell_type": "markdown",
      "metadata": {
        "id": "kCWCpO3vn--Z",
        "colab_type": "text"
      },
      "source": [
        "## Data count , count Null record"
      ]
    },
    {
      "cell_type": "code",
      "metadata": {
        "id": "Pe6u4spr3unO",
        "colab_type": "code",
        "outputId": "7de5310a-91fd-46f8-b056-a4478881d168",
        "colab": {
          "base_uri": "https://localhost:8080/",
          "height": 85
        }
      },
      "source": [
        "dataset.count()"
      ],
      "execution_count": 0,
      "outputs": [
        {
          "output_type": "execute_result",
          "data": {
            "text/plain": [
              "Rating       411\n",
              "Review       411\n",
              "User Name    410\n",
              "dtype: int64"
            ]
          },
          "metadata": {
            "tags": []
          },
          "execution_count": 53
        }
      ]
    },
    {
      "cell_type": "code",
      "metadata": {
        "id": "QYaDsYRK2daT",
        "colab_type": "code",
        "outputId": "e07cfbdb-ea46-409e-f34d-b1e543f46c24",
        "colab": {
          "base_uri": "https://localhost:8080/",
          "height": 34
        }
      },
      "source": [
        "dataset['Review'].isnull().sum() # to count null data or missing values"
      ],
      "execution_count": 0,
      "outputs": [
        {
          "output_type": "execute_result",
          "data": {
            "text/plain": [
              "0"
            ]
          },
          "metadata": {
            "tags": []
          },
          "execution_count": 54
        }
      ]
    },
    {
      "cell_type": "markdown",
      "metadata": {
        "id": "SM8GcFucoJV6",
        "colab_type": "text"
      },
      "source": [
        "## Removing null records , duplicate data"
      ]
    },
    {
      "cell_type": "code",
      "metadata": {
        "id": "tX1POkqX2fyR",
        "colab_type": "code",
        "outputId": "146b42e5-6568-49b4-83ae-2497fd7f7e21",
        "colab": {
          "base_uri": "https://localhost:8080/",
          "height": 85
        }
      },
      "source": [
        "dataset=dataset.dropna(axis=0, how='any') # remove null data\n",
        "dataset.count()"
      ],
      "execution_count": 0,
      "outputs": [
        {
          "output_type": "execute_result",
          "data": {
            "text/plain": [
              "Rating       410\n",
              "Review       410\n",
              "User Name    410\n",
              "dtype: int64"
            ]
          },
          "metadata": {
            "tags": []
          },
          "execution_count": 55
        }
      ]
    },
    {
      "cell_type": "code",
      "metadata": {
        "id": "yviccCCH5p0Y",
        "colab_type": "code",
        "outputId": "f8c0393b-9a72-4b23-d579-f4f845bd6456",
        "colab": {
          "base_uri": "https://localhost:8080/",
          "height": 85
        }
      },
      "source": [
        "dataset.drop_duplicates()\n",
        "dataset.count()"
      ],
      "execution_count": 0,
      "outputs": [
        {
          "output_type": "execute_result",
          "data": {
            "text/plain": [
              "Rating       410\n",
              "Review       410\n",
              "User Name    410\n",
              "dtype: int64"
            ]
          },
          "metadata": {
            "tags": []
          },
          "execution_count": 56
        }
      ]
    },
    {
      "cell_type": "markdown",
      "metadata": {
        "id": "Jyuq2afDoVIq",
        "colab_type": "text"
      },
      "source": [
        "## Converting review column to string for cleaning "
      ]
    },
    {
      "cell_type": "code",
      "metadata": {
        "id": "xeUZeemFyHgc",
        "colab_type": "code",
        "colab": {}
      },
      "source": [
        "dataset[\"Review\"]= dataset[\"Review\"].astype(str) #convert to string to implement replace function"
      ],
      "execution_count": 0,
      "outputs": []
    },
    {
      "cell_type": "code",
      "metadata": {
        "id": "I3MBhBAiyMcU",
        "colab_type": "code",
        "colab": {}
      },
      "source": [
        "dataset[\"Review\"]=dataset[\"Review\"].str.replace(\".\",\" \") # remove dots\n",
        "dataset[\"Review\"]=dataset[\"Review\"].str.replace(\"\\n\",\" \") # remove \\n\n",
        "dataset[\"Review\"]=dataset[\"Review\"].str.replace(\"#\",\" \") # remove #\n",
        "dataset[\"Review\"]=dataset[\"Review\"].str.replace(\"❤️\",\" \") # remove ❤️\n",
        "dataset[\"Review\"]=dataset[\"Review\"].str.replace(\"😎\",\" \") # remove 😎\n",
        "dataset[\"Review\"]=dataset[\"Review\"].str.replace(\"👍\",\" \") # remove 👍\n",
        "dataset[\"Review\"]=dataset[\"Review\"].str.replace(\"🤩\",\" \") # remove 🤩\n",
        "dataset[\"Review\"]=dataset[\"Review\"].str.replace(\"😍\",\" \") # remove 😍\n",
        "dataset[\"Review\"]=dataset[\"Review\"].str.replace(\"😘\",\" \") # remove 😘\n",
        "dataset[\"Review\"]=dataset[\"Review\"].str.replace(\"💯\",\" \") # remove 💯\n",
        "dataset[\"Review\"]=dataset[\"Review\"].str.replace(\":\",\" \") # remove :\n",
        "dataset[\"Review\"]=dataset[\"Review\"].str.replace(\"🤘\",\" \") # remove 🤘\n",
        "dataset[\"Review\"]=dataset[\"Review\"].str.replace(\"😝\",\" \") # remove 😝"
      ],
      "execution_count": 0,
      "outputs": []
    },
    {
      "cell_type": "markdown",
      "metadata": {
        "id": "1-o6dhL1nJO-",
        "colab_type": "text"
      },
      "source": [
        "## For loop to iterate through each row"
      ]
    },
    {
      "cell_type": "code",
      "metadata": {
        "id": "4Y4__J3xe5Mr",
        "colab_type": "code",
        "outputId": "df604bae-a663-41d8-9ba4-3c164e94a169",
        "colab": {
          "base_uri": "https://localhost:8080/"
        }
      },
      "source": [
        "# access data using column names\n",
        "for index, row in dataset.head().iterrows():\n",
        "     row['Pcount']=pcount(row['Review'])\n",
        "     row['Ncount']=ncount(row['Review'])\n",
        "     print(index, row['Rating'], row['Review'], row['Pcount'], row['Ncount'])"
      ],
      "execution_count": 0,
      "outputs": [
        {
          "output_type": "stream",
          "text": [
            "0 4   Shot on 7pro ultimate 0 0\n",
            "1 4 excellent camera 0 0\n",
            "2 5 Awesome   Redmi_Note_7Pro_Black  Value For Money     Amazing Night Mode 1 0\n",
            "3 5 Awesome Camera   Stunning Outlook   Powerful Performance 😉 An Android Beast At An Affordable Price  Thank You Xiaomi 👌  1 0\n",
            "4 5 Fabulous Camera performance in this price range  0 0\n"
          ],
          "name": "stdout"
        }
      ]
    },
    {
      "cell_type": "markdown",
      "metadata": {
        "id": "f3zzYUHIpLwC",
        "colab_type": "text"
      },
      "source": [
        "## Combining review in one signle object for frequent word count"
      ]
    },
    {
      "cell_type": "code",
      "metadata": {
        "id": "gAVeTMnCi9cb",
        "colab_type": "code",
        "colab": {}
      },
      "source": [
        "strobj = \"\"\n",
        "for index, row in dataset.iterrows():\n",
        "  strobj = strobj + row['Review']"
      ],
      "execution_count": 0,
      "outputs": []
    },
    {
      "cell_type": "code",
      "metadata": {
        "id": "3WhRJzbjkIAJ",
        "colab_type": "code",
        "outputId": "9e705f79-df33-4411-944c-49fed2a8bc88",
        "colab": {
          "base_uri": "https://localhost:8080/",
          "height": 54
        }
      },
      "source": [
        "strobj"
      ],
      "execution_count": 0,
      "outputs": [
        {
          "output_type": "execute_result",
          "data": {
            "text/plain": [
              "'fall in love with this beauty  just wowawesome camerabest smartphone love it thanks flipkart best deliveryIf looks can kill then this phone is a Killer  it gives 3 types of looks in different lighting scenarios  This is a real beast and worth every penny  Now lets talk about some pros and cons about the device    Pros - Excellent Cameras (all 3 cameras are capable of taking really good looking shots) Blazing Fast Performance (Pubg runs at constant 60fps even in HDR) Beautiful Immersive Display (Thanks to Amoled/Notchless) Great Battery Life and Charges Rapidly fast (if you buy 27W charger it will   After 3 days of use here is my opinion  This is really a flagship killer phone  Best display, amazing camera, great battery backup and mind blowing performance  Best value for money phone from Redmi First impression from looks perspective is good, but, lots of software bug are there    Cons  Fingerprint is not that quick Auto brightness is not working 48MP camera shot is very slow ads are still there ( but they can be removed Back cover provided is very slippery  Pros  Amoled display is awesome PUBG gameplay is very smooth breath of cell is somewhat less than other phones, which makes it handy No heating at all after 2 hours of continuous gaming  I ll update this review after using this    best smartphonenice phoneoverall best package fingerprint unlock need improvement (time taken is ok but not much accurate- 7/10 success unlock) given charger can improved by built quality usb type-c cable is not good (it is like local cable and packed) back case is very nice sliding camera is slightly slow some heating while charging bugs present can removed by update super slow motion vedio some time frame freeze issue adds still present and irritating overall best phoneBest ultra wide camera ever saw  Killer_2 0Those who says k20 pro is overpriced are nincompoop  Pros- •Excellent camera , portrait mode is awesome  Low light camera is good but one plus is better  •sd855 is beast Best processor  •Design is awesome Every colour veriant have someting special  •Display is awesome  •You can watch Netflix on Hd L1 support out of the box  •App Drawer is also available out of the box because it is running on poco launcher 2  •Charging time is 1hr 28min from 0 to 100   Cons- •No 27W charger in the box  •No IR   This phone looks very good with it\\'s unique degine  Very fluid performance  Cameras are above the my expectations love those triple cameras  Display is gorgeous  Fast charging with In box charger is pretty good & and satisfied  Speakers are loud enough  At least performance is top notch with snapdragon 855 chipset   It also has network aggression & Dual GPS   Earpeas are also loud enough   My first impressions are pretty good Excellent built, great camera, miui is decent, primary camera is great, dual GPS makes the difference, speaker is loud and clear however stereo would have been great, screen is excellent,great value for money, very fast charging, great battery life  If you buy this you won\\'t regret it at all  Overall excellent package Just got amazed with the performance of the phone  Camera is awesome  Feels really premium in hand  Thank you Redmi for this no compromise flagship best ever flagship phone from redmiJust got amazed with the performance of the phone feels really premium  Pros - Excellent Cameras (all 3 cameras are capable of taking really good looking shots) Blazing Fast Performance (Pubg runs at constant 60fps even in HDR) Beautiful Immersive Display (Thanks to Amoled/Notchless) Great Battery Life and Charges Rapidly fast (if you buy 27W charger it will tak 75mins else on Stock charger its 95mins) Headphone jack (yes now days headphone jack is a feature) You can watch Netflix on Hd L1 su   Best phone my lifesuch a awesome phone     superb camera quality Very Powerful Processer,Great Camera Details,Best Display, 4th Ranking in Antutu Benchmark Tests!  just a flagship killer device!nice product I am very nappy with this productboth colours are superb Mobile best but battery draning very fast camera quality very good but on 48 mp there is not be zoom photo, performance goodbestThis is the best flagship to buy , camera ,build, performance , display even sound output should be 10/10, no compalint ,  with Snapdragon 855 other companies are charging more than 40k, so how k20 pro is overpriced? redmi is giving the flagship and best possible specs around 30k ,excellent phone by redmiKiller 20 pro Awesome phone  but battery drains quickly   and charging speed is quite good  no need of buying 27w fast chargerThis deserves to be called the best and not tear your pocket  Battery lasts easily for a day and half, performance is just mind blowing  It look slim and feels very premium in hand   Worth your every penny  I love the amoled display and design on the back  Trust me this is the game changer device   And thanx flipkart for quick delivery PREMIUM QUALITY  LOOKS AWESOME    BUT NO ANY EXTERNAL STORAGE CAPACITY  OVERALL THE CELLPHONE IS BEST IN COMPARISON TO ONE PLUS 7good camera quality shot in farmEverything means Everything is just Amazing about this device  Though its been assumed by almost everyone that this is overpriced, but believe me, IT\\'S NOT  You get every single penny of yours back in the form of this masterpiece  Display could have been slightly Better (Only if compared to other OLEDs) Great phone and worth the money  phone does not feel cheap at all  And all the ads in the miui can be disabled easily  Flipkart delivery was amazing as well  The Flipkart exchange service is really bad camera-10/10  performance 10/10 display-10/10 value for money-20/10 trust me this phone is perfect flagship it is such an awesome phone  Xiaomi really rocked this give really gives us a premium feeling glass body that look man in 28000 great loved the phoneONE WORD FOR Redmi K20 Pro is \"BEAST\" Never thought of switching to Xiaomi from Samsung but a big YES & thank god i did it   Thank you so much Xiaomi India for Redmi K20 Pro aka \"BEAST\" Overall my experience with phone is awesomeYou hold the phone in your hands and you feel that the phone is worth of it\\'s price  Feels really premium and performance ofcourse is very snappy  You cannot go wrong with this  Did not feel at all that it\\'s overpriced  Writing this with my KILLER 2 0 First impression is good!!  Loving and getting addictive    cons  1  Disappointed with camera    really bad in low light conditions    but very good in outdoor condition (sample pics attached)     2  slightly heating issue(while charging) 3  Having some issue with fingerprint,not working properly   pros   1  Phonemal Display!! 2  Battery backup 3  Call quality is really awesome 4  No ads (still now) 5  premium and stunning look 6  case cover is decent( but slippery, only suits for carbon blac   best flagship killer  nice phone good nothing like this in the market till nowlove the camera   after using for Full day, every features are working fine as mentioned like display ,camera,build quality, gaming performance only one thing is ticking that is Its Battery Performance, don\\'t know why its draining fast whereas others were happy with it its battery performance kindly solve this issue asap I have been using Redmi 4 from past 2 years  Now I needed a upgrade and chose this model and the performance it has shown is just mind-blowing  The 855 chip makes this phone buttery smooth    I have been playing pubg for alot of time and used to play on lowest settings and get killed ( but on this phone HDR extreme is available with no lag and to a person like me this is just out of the world gaming experience  I am a high level player lvl 56 and in crown league and this phone if you ask me w   i charged 100% yesterday night it drained automatically to 80% without me using it very attractive & premium device by redmiSimply Lovin It!!!  Review after 2 days of heavy usage   Pros  1) Awesome display, 5/5 2) Superb build quality and design, feels premium, 5/5 3) No words for Camera quality, 5/5 4) Very good battery backup, easily lasted whole day with heavy gaming and music, 5/5 5) Call clarity and network reception is very good  Cons  All the cons are negligible for me, still listed down the things I felt like can be improved 1) Phone is a little bit on heavier side, 4 5/5 2) Glass back as well as provided    best ever seen phonia which has no ads and superb performance by mi, thanks flipkart for early delivery The K20 Pro Is A Beast Superb Mobile   Fall In Love And But The Delivery Of The Product Is Too Late Bad Delivery Service Flipkart Need To Improve Delivery  But The Redmi K20 Pro Is Jaan Some Samples Belowgood product PUBG HDR+EXTREME graphics setting is superb I Bought the device in Alpha Sale on 17th july Glacier Blue and the device has so premium look to it and and full view display with its amoled panel is very excellent even brightness level is so good and DC Dimming feature is also good  you have separate option to enable Hi-Fi audio output through equalizer setting and InDisplay Figerprint sensor is so accurate and fast and even detects fingerprint when device screen completely off ( no need to wake device ) when place finger on sensor(screen   The phone is way faster and premium than i thought it would be  I\\'m happy i waited patiently instead of getting this from China  Okay first up I\\'m gonna talk about the good and a few bad things about this beast   Good  i  Uber premium feels  I got the carbon black because the red tint on the back camera and the red power button gives more appeal to the aesthetics of the phone and boy does it feels good  I\\'m opposed to the red and blue variant cuz even though they look cool, you\\'ll definitely    BEST VALUE FOR MONEY MOBILEThe Beast  more than I expectedOne of the best flagship mobile  In hand feel of this mobile is just awesome  And gaming in this mobile is pleasure overall the performance is buttery smooth  just don\\'t watch any videos just go for it  I\\'m Damn sure u will not be disappointed after buying this  This mobile is better than one plus  At last I must just go for it don\\'t think muchgreat performance phone from Xiaomi  best camera best display best betteryEverything is Awesome about this phone at this price   Seriously you won\\'t regret  the Amoled Display is Crispy and has Deep Blacks with good colour production and Colour Accuracy Network Signal Strength is Good  Supports 5ghz Wi-Fi Band  Fast Reboot and Processing Would like to Suggest to go for 6+128 Varient as i don\\'t think that anyone would need more than 6 GB Ram even if play PubG and Multi-task at peak but if you want more storage then Surely go for 8+256 Varient  The Only Con i find t   best performanceTrue Flagship killer phone for 2019  I am doubting to compete this price with this configuration in this year   All departments it get 4 8/5   Real Value for money in this segmemt   Go for it    got the black one guys go for it you will be damn happy by owning this beastSO I GOT THIS PHONE YESTERDAY AND WAS WAITING FOR IT FROM LAUNCH PHONE IS GREAT  SNAPPY CAMERA IS JUST OSMM I CAN\\'T FIND GAME TURBO 2 0  DISPLAY IS 🌹🌹🌹🌹 PUBG MOBILE EXPERIENCE WAS MIND BLOWINGI\\'m coming from op6  my issues with this phone i bought it mainly for gaming PUBG and few other games  1st issue touch is not accurate or sometimes not responsive  Even with game booster it start lags after few minutes of gameplay  No heating issues but i found throttling in performance  Dual GPS is just gimmick do not lock as fast as op6 FM radio receiver so bad  it won\\'t get any stations even after multiple scanning  Front camera is poor  Main camera night shots with night mode not good and   I ordered it on alpha sale but it took a lot time to be delivered  The phone is just awesome every single Penny will worth it  the camera is just fabulous camera detailing is also awesome   talking about the gaming performance  I played pubg classic match in ultra HD setting the battery consumption was only 11% for the entire match   Battery life is also awesome  The design is just beast  It looks and feels so premium in hand  awesome camera only need some improvements towards over exposure battery is awesome if u putup a dark theme I\\'ll last forever call quality is awesome display crisp deep blacks fast processor little multi touch issue which cam be resolved over an update would give 5 stars to value for money if software will be more like stock rather than Miui overall nice pack of specsmistake        playing PUBG and other high intensity games  Cons   1) Back side gets warm while charging  No heating issue are observed while gaming 2) Fingerprint sensor might take a while for those accustomed to physical sensor models 3) Battery drain prominent at the moment, probably it    Lighting conditions  Cons-   1 Some time Battery Drain fast ( some time in heavy usage) (like PUBG Game )  2 Selfie camera average ( vivo v15 selfie camera is Awesome on camparing Redmi k20) 3  Rear camera performing awesome but only in good light conditions , in low light not decent & video satablization not working & when we shoot in Slow motion video Qualit      in this flagship devices , I have taken black color miui is too good and very smooth net   Beast performance by Redmi K20 Pro    Really Value for money, Flagshipkiller  Camera is Excellent, Battery backup is good and charging speed is Too fast  Overall performance 💪 Great Fingerprint unlock is average very very good phone at this priceAs you can see the front and rear camera sample you can found that picture is quite slimier to redmi note 7 pro but its good and fast phoneIndeed a Flagship Killer  The Best one of this Yearamazing phone at this price range   awesome camera with design    display is flowlessPhone is good as described in promos  Feel, Speed, Camera all good  Phone was bought with exchange of an 2 years old phone redmi note 4 , however Flipkart refused to accept it, though the phone was in good condition with only age related wear and tear  Hence my advise  1  Don\\'t go for exchange with flipkart, boz ultimately they wont accept the exchange and you will have to pay exchange price and unnecessarily wait for 10 days  2  Avoid Flipkart, search for the same product on other website an   This phone is a value for money product    everything seems to be spectacular   the camera have to be updated regarding the auto focusing or the image sometimes seems to be a little shaky or not focused   In total,the phone is just brilliant in its build quality and performance Pros  Bazelless AMOLED display   no ugly notch SD 855 Popup cam No heating issue Good battery life Good quality back case in box Premium design  Cons   so far none  I recommend people to buy this over regular K20HONEST REVIE BY ME camera 10/9 5 battery 10/8 display 10/9 finger print sensor 10/7 gaming 10/10 charging time 80minutes value for money 10/9 pop selfie 10/9 design 10/10touch screen issue don\\'t buy it if u are a pubg lover  in 4 claw finger control camera is not moving sometimes  hated this device  my is waste😭great phone on great price sky change through the phone appI was on a call while charging and got electric shock from its upper speaker   and also getting lite shocks from camera also while chargingJust 7 days of routine careful use of  RedmiK20Pro has given scratches on the screen, Corning Gorilla Glass 5  fails   Just 7 days of routine careful us, scratches on the screengreat product    Just go for it   No issues so far   Just love everything about this phone camera( front camera not so much), performance, battery & overall design of this phone is fantastic the only thing i hate about it is MIUI but i can live with it ( wish it comes with oxygen os😋)Much better than realme X   I am so happy and satisfied with the performance,camera performance is also awesome but should be improve in low light conditions batery back is impressive, display is full bright and colourful and impressive and design is also attractive    everything is awesome just should be improve camera in the low light conditions  so camera rate ,I will give 4 5it\\'not a killer phone , selfies r pinkish,fingerprint sensor is not up to the mark(it struggle\\'s)  it will make a big hole to ur pocket (phone doest worth that much cost)    Redmi K20 pro is True Flagship Killer  with Snapdragon 855 Performance- 10/10 Battery- 10/8 Rear Camera- 10/9 Front Camera- 10/6 Display- 10/9 Looking- 10/10 Sound - 10/9Awesome and classy phone with premium quality and finish  855 processor gives excellent and fantastic performance  camera quality perfect  it\\'s the best premium phone in the market at this price  Not sure if I can put absence of memory card slot as con since all the premium phones is the same  simply go for it if you need premium phoneawesome product   flame red colour looks so beautiful,fingerprint is a bit slow but will improove with time,rest nothing to complain,blazing fast performance,Hats off to Xiaomi for such an amazing product,Worth every penny    👌👌👌👌awesome Phone Full value of money awesome built qualityone of the best phone\\'s out there   it\\'s been 2 days and I haven\\'t seen a single ad   full view display takes the phone to a next level  excellent display great camera and fastest phone what else you need  best value for money phone right now  6 GB variant cost 25999 with 2000 ICICI Bank instant discount   Do the real math  and out of all three colour I would prefer glacier blue   In this price I don\\'t find a single con in this phone It\\'s the best in this price categoryExcellentIt\\'s just the way it is  No comparison l love this phone The phone looks is awesome  Little bit heat produce while playing PUBG and High graphics game  The camera and AMOLED display is awesome  The performance of this phone is good  This device is value for the money  I give this phone 5 stars and Thanks MI and Flipkart best flagship 2019 K20 pro  no cons abt this mobile except charger  fast charger have to buy seperately   I used many flagship mobiles which are at high cost but nothing have impressed me as much as this guy  I think untill next year this must be the best flagship in this price range    simply wow Price is little high  why do we buy xioami for 28k when we have nfc,ufs3 0,less weight op7 with 4 k more if has greater buyback guarantee and brand value, Xioami cheated showing wrong expectationsCamera  is decent with its rivals  But it just blows away the mind when used with Gcam  It takes out the best from the phone  If OIS was present then recording videos would have been more stable Selfies are little bit on the softer side Front Cam 8/10, back cam  7/10  Battery  It easily lasts a day with heavy usage playing games on 4g network then using Adobe Photoshop express, calls and every other stuff that we do with mobile  p  I charge it at 9 00 am at 80% it is still 20% at 11 00 pm  10   pros  1 good display good OLED  2 above average battery life(6 to 6 5 SOT for average usage in dual 4 g mode) 3  ok-ok rear cameras if the lightings conditions are good then the 48mp is capable of producing some great results  4  because of SD 855 ,super performance so far   no slow down observed   (6 GB /128gb seems adequate) 5  much improved Xiaomi\\'s s/w (MIUI) in the name of pocco launcher 6 good network receiption   cons  1  front camera seems average (or below average?) the main cul   After waiting for long time    atlast today i received this Awesome phone    K20 pro    superb     very good quality and feels great on hand    need to check in the coming days about its full performance as a flagship phone Please don\\'t see it an overpriced device as it is the cheapest 855 holder in india  Pros -  1)Best camera 48+wide+2x zoom(no useless camera like a depth sensor in OnePlus 7) 2)Display - Super Amoled display is the best in class as Xiaomi has made no compromise 3)Battery-4000 mAh battery will last you for day and a half also it supports 27 watt fast charging which charges it 90 in just one hour(27 waat must buyes separately) 4)Performance- No doubt it even beats the predecessor poco f1 in perf   Camera Excellent But Heating Mobile  Heating Issue When using Mobile Camera heating mobile & Battery DownMy last phone was one plus 5 which still works well without any issues  I thought of exploring a new device and got K20 through the Alpha sale  Though K20 pro is kickass, I felt the weight it carries can become uncomfortable for some  Especially guys like me who were using a pretty light and slim phone   Performance is pretty good and camera is decent  I never expect phone\\'s picture quality to match a DSLR since the latter\\'s sole responsibility is taking pictures  The online review gurus crit   Totally worth it  Initially I was feeling reluctant to buy k20 pro  One plus 7 or Asus 6z was in my mind   This phone was launched as 9t pro in other countries   Checked review and find k20 pro batting horse  Finally my 4th Xiomi phone arrived after using for few days, my review is    WooooW  Negative point   1  In box charger is 9v only   2  Front camera is taking over exposed photo but it is not that bad photos   Seems this can be fixed from software update   However I am not bother about    I got this phone from the ALPHA SALE held by Flipkart-Xiaomi on 17th of July 2019   thanks to Flipkart for delivering this product well within expected time   pros  1  superb screen  it\\'s vibrant, it\\'s immersive, it is beautifully packed inside a very compact chassis   2  The Anti Flicker mode makes your screen flicker-free at low levels of brightness  it Does make a difference if you are sensitive to constant flickering of Amoled screens    3  System-wide dark mode gives you a good feel to t   Superstarsuperb phonehow can anyone say this mobile is overpriced  do not expect a SD 855 lesser than this price   After using it for 4 days I can say this is the best deal you will get in this price rangeawosome,minblowing   superb   Amazing work from radmi  Just go for itCons  *Battery draining fast  *Camera app disappointing    beautify nd AI destroy photos   lacks detailing, faces are turning red and soft, selfies are also bad   grainy too  POCO F1 (my previous phone) is way far better   I had lots of expectations on this one   but seriously disappointed (after 2 days usage)  *Battery draining fast   Pros   *Good speed  *great sound (while using headsets)  *Good Display  *Good touch response  *Excellent for games and watching movies Battery temp goes to 40-42 degree while charging phone display heated on upper screen and down also back panel also heat but little bit camera is just ok not best like oneplus or iphone battery drain very quickly 2 day before my phone camera is also not working but by restart the phone it going back to normal fingerprint sensor is slow not fast phone performance is good no problem in touch but heating issue is a big problem while charging the phone i don\\'t know why its happeningGot my device today   to my surprise the phone is beautiful  It looks and feels very premium  Daylight photography is good but night or low light photos are bad  Front camera is good in daytime and eqaully bad in low light  The call quality is excellent and 3 5 mm jack output is crisp n clear  Camera performance can be improved via update in future though  Phone is fast and display is superb    The major complaint here is I have ordered this phone with exchange offer and the decvice which I w   This review will be helpful for anyone who is currently confused to buy either K20 pro or op7   Verdict- If you are sure that you\\'re going to use the device for minimum of two or more consecutive years then go for OP7   This device is equivalent to OP7 in most parts except for a few which everyone knows about   The main reason to buy Redmi k20 pro over OP7 are  1) Headphone Jack(The audio quality from the Jack is damn amazing  It has a built in HIFI DAC  I used it with my ATH-M50X and it coul   superthe built quality is good but they say they used gorilla glass 5 I don\\'t think so  it catches scratch so easily    display glass very bad  if ur buying k20/pro get the temperglass together with it or dont used untill you get a temperglass  about camera- front camera blowsout background in good light no dynamic range front camera is average 48 mp is good  but wide angle pics edge have fish eye like view  Rest like audio jack is definitely good not up to lg dack Awesome Phone  Camera is So Gd  performance is really Gd  Go for it Awesome Phone Ultimate looks - Carbon black colour is decent (Front and back glass) Fastest processor 855 Perfect camera set-up, 960fps slow motion video is suberb Bright display with 178 degree viewing angle  I don\\'t know why they haven\\'t given IR Blaster  Far better then other flagship phone in this segment Recommendations - Buy K20Pro instead of OnePlus 7  Redmi is providing almost same experience in less price Poor camera quality  The images are full of grains and are very smooth  There is no sharpness at all  My previous POCO phone is much better than k20 pro when it comes to camera quality  Never expected such a quality of photos from this price point  Sometimes you feel like a 15,000 rupees mobile do better in terms of photos I don\\'t know why   but really it has a big heating issue    don\\'t believe in YouTube video\\'s  I played pes 2019 only for 10-20 mi and it\\'s going to very heatedThis phone is a beast in every aspect  Forget OnePlus 7, end of the day both are chinese brands, practically this is the best option buy this blindly you wouldn\\'t regret Its pure beauty & *beast* internally !! just don\\'t think go for it !! u wont regret !! Snapdragon 855 is very fast !! no lag nothing !!! its been 3-4 days & didn\\'t got any issue regarding performance !!  Cameras are very awesome ! u got total of 4 cameras !! Pop up camera is very much awesome and crowd caller !!! it lights up !! 48 megapixels is sooo good !! + wide angle and telephoto are also very good !!!  gaming performance is at new level !  considering the price,this phone is at new leve   I am writing review after use of more than a weak and this device is true killer  Pro  855 snapdragon - You can play PubG in Hdr mode with Extreme frame rate  constant 60 fps Pro camera mode is killer 48 Mp camera beast Wide angle view is pretty good Adrena gpu is also excellent in category Battery backup is also good  Cons No block calls and notification options while playing game 27 w charger is need as normal charger take time to charge device I don\\'t find any other problems  For me Best d   The phone combines all the best features of the current time  Best processor, better camera, better display and best battery life  The phone itself is premium  Battery lasts for about a day nad a half with moderate daily usage  Camera is better  Although the photos it takes are not comparable to Google pixel (natural reproduction of colours) but colours are vibrant and looks preety to the eyes than pixel  Phone is very snappy and no lag is noticed  All in all the phone is best in this price a   This phone is like a beast at this range, Low price but expected a bit more less price, truly its a flagship killer, Front camera 📷 could have been more better, speed is very good and the most attractive part of this phone is glowing front camera 📷 and its back  This phone feels like a dragon from GOT just one word for this phone AwesomeCons -   Little bit slow in-display fingerprint (after screen guard) - (compare to oneplus 7)  Front camera could have been better  Night mode of rear camera is not that good Back cover is slippery - It could be transparent one   Pros -   Value for money  Comfortable design Durable - Corning gorilla glass 5 & aluminium frame Good rear camera setup Good battery - Fast Charge  Note  If you are fan of Vanilla android or Oxygen OS than definitely this is not for youawesome phone, value for money   atleast mi should provide earphone for premium phones   1  Display 10/10 2  camera 8/10 3  battery 9/10 -- didn\\'t notice any fast draining yet as others complained 4  processor --10/10awesome mobile by Xiaomi satisfied with it blue beauty with red power button accent is so cool display is awesome but battery is draining fast compared to other xiaomi phonesAmazing Pro mobile  Good Performance and great battery as of now after 4 days of use  Charging cable is of lower quality and short in length  Phone charges fully in 1 5hrs  So far snappy loved it,there are no ad k20 pro and company also says that in k20 pro there will be no ads  phone is good  camera quality is also good  people are saying it\\'s overpriced so u have to understand one thing  k20 pro is expected at 25-26k for 6gb ram 64gb Rom  but tin India , it\\'s base price is 28k for 6gb 128gb Rom  I think redmi k20 is overpriced than k20 pro  NOTE- IF YOU WANT VERY POWERFUL GAMING PHONE AND GREAT BATTERY BACKUP, I WOULD SUGGEST YOU TO WAIT 1-2 MONTH AND GO FOR ASUS ROG 2 PHON   Phone is Good , Loved the quality of screen and perfomance is awesome Okay so I had waited like for ages to get my hands in this device (at least felt like that for me 😁)  I had made up my mind to go with the pro version beforehand hence I ordered the 6/128 carbon black version as I was not sure about the flashy red and blue versions which definitely looks brilliant as well  I am not regretting my decision buying this one and I\\'m extremely satisfied with my purchase   There are plethora of videos and reviews so I\\'m sure everyone knows almost every aspect about   after 3 days of daily uses this is the real killer off flagship phones i think price is 1000-1500 more than we expected with value for money for sure for design and build 5/5 for performance 5/5 for display 5/5 for battery backup and charging 5/5 but i think phone struggle a bit with camera so 3 5 or 4/5 for me this is the best in this price with flagship lvl performance fall in love with this beauty go for it if you need this phone im sure you will be happy for sureEverything is good  but I like stock android more than the miui  finally I made the looks and functions similer to stock and disabled all the ads  Now I am satisfied first I was thinking about OnePlus 7 but then I researched little bit and got this device,Very impressed by this deviceultimate it\\'s worth the weightWell my initial review is as follow -Absolutely Stunning  The display and fit and finish is absolutely top of the line  I was confused betweet OP7 and this one  I guess I made the right choice   There are some software bugs which is very minor and could be fixed using OTA   Overall its a super value for money  Im waiting for the case and tempered glass to arrive then I will use it as a daily driver  BTW will update my review after one month, that will be the final one All the best Team Red   Master of speed  Worth for every penny Loving it   Best in the price  I doubted on Amoled display   but its awsum  No need to believe on fake reviews  Camera stabilization has to be improved a little when compared to other flagships  Not a comenttable con thought  I hope it wud be improved with updates nice deviceawesomeredmi k20 pro is d best phn in the world  27 watt charger should be there in the box which definitely makes it value for money I got this phone for 26000 on icici bank CC initial offerOverall it\\'s worth to buy build quality is good display quality is superb Hi Fi DAC audio playback pretty good Finger print scanner little bit lag Camera quality seems to be good, but need to improveFall in love with it   awesome product from Xiaomigood lookinggood product but not a killerThis phone is a real killer  From the overall performance,camera and display it has been best   each and every components in the hardware section does its job very   leaving some minor aspects which is some software problem    But otherwise worth the deal     I have written camera as best becoz   using google camera and sony\\'s IMX 586 camera does the job at its best   The display is great   But the main issue is with the battery  It drains too fast   Doesn\\'t rly feels like the same that I had in my precious Redmi Note 4  You have to charge it atleast once in a day which is kinda pathetic Don\\'t waste your money if its hard earned its just a phone with gimmicks paid publicity paid preview Display good sound bad No hdr streaming on Netflix possible, no ir blaster  looks good only in dark room otherwise back doesnt attracts in sunlight also idiots have given black cover  so entire design gets hidden save money if you are not fool like meI purchase Redmi K20 Pro 6GB with 128GB variant  When i apply tempered glass on my phone the fingerprint scanner will rarely work  Redmi have already write it on the slippery cover on the Phone itself   Please Consider this when you guys buy it Only Con i found is the delay in fingerprint scanning, and that is expected due to aMoled screen  Rest 10/10 on everything !This phone justifies being called as \"flagship killer\"  I have just become a huge fan of this Alpha flagship phone by xiaomi  Don\\'t think, just go for it K20 pro is a flagship killer on this price  Performance is really very good  18W charger is enough for fast charging works greatMy first flagship phone and it\\'s amazing  Playing all psp games on it without any lag  Camera is fabulous  The case which comes in the box is surprising very good  The only thing bothers me is the screen size  My pervious phone was MI Max 2    I wish the screen was as big as OP7pro, for it would be a perfect phoneoverall very good product with some cons   pros  Excellent design and solid body  good camera very good display but 4k videos from YouTube are not playing fast app launching   cons  slow responsive finger print scanner  lot of adds in between  fussy miui os, lot of customisation, later it can eat the phone performance  multi touch responsive   battery backup is not up to the mark  popup camera responding slow and selfies are average value for moneyONLY ONE WORD THIS PHONE IS A  *BEAST*  MAIN HIGHLIGHT IS THE TRIPLE AI CAMERA  PERFECT SHOTS ON EVERY CONDITION    GAMING ON THIS PHONE IS TOTALLY AWESOME       THE BACK PANEL LOOKS SO PREMIUM      IT HAS GAME TURBO 2 0 AND IN THAT ALL GAMES PERFORMANCE INCREASES     SLOW MOTION ,NIGHT MOD,48 MP MODE , PORTRAIT MODE,PANAROMA,WIDE ANGEL    ARE PRESENT IN CAMERA APP     POP UP CAMERA LOOKS SO BEAUTIFUL   I FELL IN LOVE       OMG     awsm k20 pro camera superb   sd 855 super fast   k for killer k for kingummm its good but the YouTube reviewer said it does not get heat its false it does get heat even using cover you could feel the heat  after playing pubg second time continuously the game flicker i played fortnite in auto settings it does not run smooth when you turn around And another bad thing i find is that if you want to change the theme,font or icons it will restart every time And the front camera is not that good and the phone is very slippery if you have sweaty hand but the back cover p   Fingerprint scanner is not accurate and shows poor results  Most often fails to recognise  Bad quality from MI after long time  I have bought many products but disappointed with this Superb phonetouch screen issue  notngood for pubg those who r using claw     i lost all my money with this  bring manu saini in front of me i will take of his brain from his bare headpubg ply smth ultra 40 fps and battry drn fast and also warm handset   some touch problem in multiple touch   finger lock are ok   face lock verry slo  over all if u want to ply hard game pubg plz don\\'t go for it  other wise ok  Value for money is what I can say  Used this phone for 1 day & I have started to like it better  It has a gorgeous display & SD855 makes it run fast enough  Camera is on par with OnePlus  I have been using Mi5 previously, which was running on MIUI10 where K20 pro also runs on the same flavour but with POCO launcher which gives it essence of stock android  I like it  There is lot of room for Software optimisation which I believe Xiaomi will surely do  I like the flat display over the curved di   camera, and fingerprint needs so many improvements, so many bugs, hangs everytime  fingerprint doesn\\'t work properly, failed to open with fingerprint most of the times, case is sleepery  even after update these problems are still there  overall Ph is good  little overpriced  hope after update problems get resolved by redmi no NFC in Indian variant   no reviewer ever stated this   phone by default puts pubg in normal framerate change it in graphics settings   frontcamera has an annoying sound by default and both sounds and lights of front cam can be disabled in settings     photos are good     music is awesome     HDR playback support is now available only in YouTube   back design looks good   * display awesome ****** * Sound good **** * camera performance good in day light and average in low light, hope it will solve in software update **** * Design superb ****** * Performance good ***** * Overall product was good *****Yeah i too have purchased Rk20pro thinking as a flagship phone but when i used it, it doesn\\'t seem to be  like camera  Night photos have too much noise in it  May be it has problem in m6 device only  but I\\'m not happy at all Lots of touch issues with PES 19 and many other appsRead this I got it for 26k but the camera is not that good it could be better battery drains fast but all other performance are good4 starts because the price & the camera   Camera samples are good, but definitely not great  I\\'ve used at least 7 Mi models till now including Poco F1  So, it is not surprising to me that the camera quality is not at all on par with the Xiaomi claims (they say AI and what not)   Price could be 2-3 thousand less as OnePlus 7 is coming for 32K and when you buy during offers, you can get that for 30K itself   Don\\'t get me wrong - K20 Pro is a very good mobile  It\\'s just that I\\'ve expected more c   Pros - - Awesome design - Amoled display - Cameras - both front and back - 4k 60fps recording  - 4k 30fps and below with EIS - Performance - SD855 - enough said! - Sound output on speaker is loud despite being a single speaker - Battery and quick charge - headphone jack  p - price and vfm  Cons - - IR blaster would have been helpful - Bloatware that comes pre installed - 18w charger in box instead of 27w - would have been good if we could upgrade to 27w by paying 200 extra like in China  p -    I just got my phone today   totally satisfied with k20 pro When playing PUBG mobile produce more heatthis is a best best smartphone in this price range 855 snapdragon in most powerful  and camara is very good nice design amulad displayLoved the looks and feel of the phone, there is almot everything as like in a flagship except NFC and Stereo speakers    I felt the phone could have been cheaper than this   That\\'s why 4/5 for value for money   and also the earpiece quality is pretty good on this one At this price range it\\'s a good phone  But camera performance is just a hype  The best thing in the phone is display and chipset  other than that is just a hype I must say that the redmi k20 pro is the best flagship killer phone that money can buy but I have only one complaint that there are no official screenguardz available for the device and I bought a Flipkart smartbuy screen guard which is not of perfect size I would request xiaomi A2 launch official screen tempered glass with         Nice performance & recommended to buyBest value for money! Top end processor! Buttery smooth performance! Can\\'t go wrong with this one UI and camera isn\\'t good  The good thing is it\\'s speed, design, look, performance  But cartoonist UI of MI is not classy and should have better update for camera    plz make good stylish UI and make some good updates in cameraA brief review after one week usage Display  Crystal clear  no doubt with amoled  5/5 Battery   2 days with moderate usage  i charge to 100 % at morning and sleep with 50% left  5/5 Processor  Latest and fastest so no need to explain 5/5 Camera   Superior  When said according to price 5/5 when said according to mentioned 4/5 but believe me you can not find the difference unless you are camera gig   Design  looks premium on hand but slippery to handle  better to use with black case provided o   Good one but exchange option really very very badvalue for moneyfeel the hype the hype is realReally good phone!A premium phone at an affordable price segment is solid deal for the money, a zippy and quicker processor, triple camera excellent displayEverything is fine but I didn’t understand why redmi is still having issue when using phone while charging though with the original charger  Hope in future they will built a better phone even while charging  Need to improve some security options like hiding lock pattern visibility for default app lock  Rest all is really great really worth waiting  Xiaomi rocks again✌️✌️🤞🏻mobile lags during pub g gameplay ,even it has fastest processing dissappointment from Redmi   camera also not as they said during launch  battery is good  I liked the fast charger very good charging capacity I found battery draining fast but over all good performance   excellent cemera  Amazing product from xiaomi selfie camera needs to improve and i think developers will improve camera quality by tweaking software through , other wise phone is must buy under 30k , stunning display powerful processor nd great battery life with triple camera at rear also upto mark  must buy a carbon black version so you can get the best premium experience in the market poor Wifi & network connectivity speed    Camera Function very good   Back camera excellent but front camera beautifies pictures by default  Face unlock slowSplendid phone indeed! Battery, performance, audio are wonderful   Rear camera is great compared to front   Only thing I miss in K20 pro is the IR  Awesome Design, Good Camera, Excellent Battery and a great screen   Must Recommend!I am giving my review with respect to the price point and nearest competitors, design is very solid and no issues in this section, display is very good as well as battery performance, but they should have included that 27W charger, camera is above average under daylight camera is as good as other flagships and suffer highly during night time, front camera is okay nothing great about it, one can install google camera for better results, call quality and network reception is good but they shoul   Awesome Love it I have a hesitation before buying this phone  But I am extremely satisfied after using it  I took Redmi 1S, redmi note3, redmi note 4 and redmi note 7 for all of my family members and I thought will take a flagship phone and took redmi K20 pro  Amazing features and phone is really fast  Camera is awsome  Fingerprint is taking almost a second to unlock the phone  Best mobile of 2019 under 30k segment  Have bought this during first Alpha Sale  After using over a week here is my take on the phone   Pros  1) Display - Immersive display with crispiness and deep blacks  The LED display is top notch  The bezeless display brings enhanced experience while viewing videos  No issues while taking out the phone in daylight  2) Sound - Played songs through speaker and Bluetooth headset  The sound through speaker is extremely good  Same goes while playing through B    READ MORE value for money   worth purchasing Simply awesome   The Great value champion  Its definitely starkly superior than the one! I loved the phone it\\'s awesome the performance is amazing,touch is awesome  the speed is good  camera is mind blowingly amazing  I just lovee the phone so far so good  Rest will let you know  pros 1  value for money  2  good camera   video quality is amazing  3  pop up doing well  4  fast process   no lagging  5  super fast charging  6  case provided is also good 7  display is amazing 8  high end games are running smoothly  cons   still looking for cons     people say cost   i don\\'t think so It is not overpriced  Only thing that lacks is stereo speakers  ACTUALLY I DON\\'T HAVE TO SAY ANYTHING ABOUT THIS PHONE COZ THIS PHONE IS NOT AWESOME THIS PHONE IS AMAZING BEST PHONE FOR PUBG MOBILE AND SOMEONE SAYING THAT IT IT HAS TOUCHED JITTER ISSUETHIS ISSUE SOLVED BY THE SHOW ME AND IF YOU PLAY BUT THE DAY YOU NO NOTICE EVER I USE CLAW AND I AM PLAYER OF CONQUEROR The device is fast thanks to SD855  The camera needs a little bit improvement but at this price point everything even\\'s out No Regrets After Buy  Pros -  1) One of the Best Design smartphone looks premium and classy   2) SD855 is Blazing Super Fast  3) AMOLED Display Touch is butter smooth for use and video colors are more crisper than any other IPS or any Other Display  (Notch less) 4) MIUI has more features and customization options which above my expectations  5) After 3 Hrs of Heavy Gaming like PUBG, Survivor, ASPHALT 9, WCC2, FIF, UFC etc  bur No heating found thanks to the 8 layers of graphite stack cooling    amazing product  I loved it smart lookingSuperb Phone     Killerthis phone is amazing but overpriced about 2k but for a flagship experience it\\'s best device in budget but heating issues is there otherwise phone is excellentfinger lock works 7/10  auto brightness causes lot of fluctuations  rest is good please improve camera quality and display contrasBest flagship at this priceOne of the best budget phone out there  Has a really premium feel and a great display, no issues of ads in Miui we can easily disable all ads in the apps  Miui feels quite mature and intuitive and packs loads of features for customization  Gcam mods are also available for better camera picture quality and performance is top notch Awesome Love it I have a hesitation before buying this phone  But I am extremely satisfied after using it  I took Redmi 1S, redmi note3, redmi note 4 and redmi note 7 for all of my family members and I thought will take a flagship phone and took redmi K20 pro  Amazing features and phone is really fast  Camera is awsome  Fingerprint is taking almost a second to unlock the phone  Best mobile of 2019 under 30k segment  Have bought this during first Alpha Sale  After using over a week here is my take on the phone   Pros  1) Display - Immersive display with crispiness and deep blacks  The LED display is top notch  The bezeless display brings enhanced experience while viewing videos  No issues while taking out the phone in daylight  2) Sound - Played songs through speaker and Bluetooth headset  The sound through speaker is extremely good  Same goes while playing through B    READ MORE value for money   worth purchasing Simply awesome   The Great value champion  Its definitely starkly superior than the one! I loved the phone it\\'s awesome the performance is amazing,touch is awesome  the speed is good  camera is mind blowingly amazing  I just lovee the phone so far so good  Rest will let you know  pros 1  value for money  2  good camera   video quality is amazing  3  pop up doing well  4  fast process   no lagging  5  super fast charging  6  case provided is also good 7  display is amazing 8  high end games are running smoothly  cons   still looking for cons     people say cost   i don\\'t think so It is not overpriced  Only thing that lacks is stereo speakers  ACTUALLY I DON\\'T HAVE TO SAY ANYTHING ABOUT THIS PHONE COZ THIS PHONE IS NOT AWESOME THIS PHONE IS AMAZING BEST PHONE FOR PUBG MOBILE AND SOMEONE SAYING THAT IT IT HAS TOUCHED JITTER ISSUETHIS ISSUE SOLVED BY THE SHOW ME AND IF YOU PLAY BUT THE DAY YOU NO NOTICE EVER I USE CLAW AND I AM PLAYER OF CONQUEROR with         very very good killereverything is awesome but  fingerprint issues and phone restart automaticallyits supervb phone    no heating issue    very fast performancefingerprint sensor not work properly so pls improveAwesome Phone    i think it\\'s a very good phone   great design,excellent processor   i think its display is little small if its display was 6 5 that would be best for me  but nevertheless nothing is perfectOne of the master piece created by Xiaomi  K 20 Pro  veri nic phone with different red rose colourONE OF THE BEST PHONE EVER BUT SOME PROBLEM LIKE SLOW FINGER PRINT AND CAMERA RESULTS SOMETIMES BLIR   BTW OVERALL BEST PHONE EVER THIS PRICE RANGE IS THIS SEGMENT IS RIGHT  PAISA VASOOL PHONEK20 Pro is really good, display is amazing, camera is also great only the night mood is not that good  Only thing I didn\\'t like is front camera which not good  Makes face look extra white otherwise great phone  I played lots of game didn\\'t notice any issue till now  Loved the Carbon black, looks classy really amazingThe phone is awesome in black colour and  Display is 10 out of 10 Fingerprint is 9 out of 10 Camera is 8 out of 10 Processor is 10 out of 10 Sound is 10 out of 10 Speed is awesome Looks very premium  It is a beast u can say    And most important flipkart delivery service is incredibleBest flagship although i miss stock android (just preference)  no one can beat it at this price point  slim bezals, no notch , pop up camera is also good so is battry life if your budget is 30k , without thinking go for itAwesome phonePro A premium look Amazing display  peek performance good cameras good battery Life cons gets little warm when playing pubg (at high settings)and while charging(can be removed on further charging in future) there is still room for improvement in front cam  Overall an excellent phone, a good competitor to op7awesome performance specially in gamingJUST AWESOME       A true flagship Killer 😈 Redmi K20 Pro is definitely the best looking smartphone with the flame design & aura effect👌🏻 Amazing build quality with a aluminium frame and Gorilla Glass 5 on the front and back! Powered by the most powerful Snapdragon 855 7nm chipset coupled with Adreno 640 GPU along with the 8 layer Graphite Cooling technology makes this device an absolute performance monster💪🏻 The Amoled Display is wonderful with full screen experience (HDR content supported)! 7th Gen on sc   K20 Pro is really good, display is amazing, camera is also great only the night mood is not that good  Only thing I didn\\'t like is front camera which not good  Makes face look extra white otherwise great phone  I played lots of game didn\\'t notice any issue till now  Loved the Carbon black, looks classy really amazingThe phone is awesome in black colour and  Display is 10 out of 10 Fingerprint is 9 out of 10 Camera is 8 out of 10 Processor is 10 out of 10 Sound is 10 out of 10 Speed is awesome Looks very premium  It is a beast u can say    And most important flipkart delivery service is incredibleBest flagship although i miss stock android (just preference)  no one can beat it at this price point  slim bezals, no notch , pop up camera is also good so is battry life if your budget is 30k , without thinking go for itAwesome phonePro A premium look Amazing display  peek performance good cameras good battery Life cons gets little warm when playing pubg (at high settings)and while charging(can be removed on further charging in future) there is still room for improvement in front cam  Overall an excellent phone, a good competitor to op7awesome performance specially in gamingJUST AWESOME       A true flagship Killer 😈 Redmi K20 Pro is definitely the best looking smartphone with the flame design & aura effect👌🏻 Amazing build quality with a aluminium frame and Gorilla Glass 5 on the front and back! Powered by the most powerful Snapdragon 855 7nm chipset coupled with Adreno 640 GPU along with the 8 layer Graphite Cooling technology makes this device an absolute performance monster💪🏻 The Amoled Display is wonderful with full screen experience (HDR content supported)! 7th Gen on sc   Amazing experience and one of the best phone I ever had   👌 With awesome looks and zero compromise Great camera and amazing display Redmi ever used   📷 Porformence god level, never lags And yeah! It\\'s really a KILLER 2 0🔥 Highly recommended  😉WORTH BUYING 🔥🔥🔥  1 Excellent ram management 2 great cameras 3 gorgeous display Many people would say that it is overpriced    but its performance for that price is really fabulousosm mobile     blue colour is very very very good jbrdat camera    I faced some issues with the phone calls, other than that smooth performance  Though the delivery was reasonably quick but the packaging was below par  come on Flipkart you can do better After almost 24hrs of usage  Battery Charging Time And life is extraordinary  Performance is at par with any flagship out there  Rear Cam  Beautiful as one would expect  (especially with g-cam) Front Cam  Now this is where you should be aware  As of now front camera is not that great  Always having a Reddish tone on pictures  Verdict  If you take selfie very rarely then close your eyes and go for it  Except front cam everything else is the best  THE BEST   NOTE  There is no ads  as of nowexcellent phone   The Real Flagship Killer! I have no words to describe how good this phone is  Just know that I have used Oneplus 7 Pro and I like this better 😄ALL FEATURES ARE AWESOME BUT THERE IS FINGERPRINT ISSUE This mobile is really nice  Value for money   specially the camera quality for Night Mode is awesome  SD 855 processor is really fast and good for gaming  Super Amoled display looking good with punchy color  Overall it\\'s a nice products in your budget with         Amazing experience and one of the best phone I ever had   👌 With awesome looks and zero compromise Great camera and amazing display Redmi ever used   📷 Porformence god level, never lags And yeah! It\\'s really a KILLER 2 0🔥 Highly recommended  😉WORTH BUYING 🔥🔥🔥  1 Excellent ram management 2 great cameras 3 gorgeous display Many people would say that it is overpriced    but its performance for that price is really fabulousosm mobile     blue colour is very very very good jbrdat camera    I faced some issues with the phone calls, other than that smooth performance  Though the delivery was reasonably quick but the packaging was below par  come on Flipkart you can do better After almost 24hrs of usage  Battery Charging Time And life is extraordinary  Performance is at par with any flagship out there  Rear Cam  Beautiful as one would expect  (especially with g-cam) Front Cam  Now this is where you should be aware  As of now front camera is not that great  Always having a Reddish tone on pictures  Verdict  If you take selfie very rarely then close your eyes and go for it  Except front cam everything else is the best  THE BEST   NOTE  There is no ads  as of nowexcellent phone   The Real Flagship Killer! I have no words to describe how good this phone is  Just know that I have used Oneplus 7 Pro and I like this better 😄ALL FEATURES ARE AWESOME BUT THERE IS FINGERPRINT ISSUE This mobile is really nice  Value for money   specially the camera quality for Night Mode is awesome  SD 855 processor is really fast and good for gaming  Super Amoled display looking good with punchy color  Overall it\\'s a nice products in your budget 2/10setup in this price  Display is very crisp and clear viewing angles are good  Amloed display looks stunning  Back design of this phone is too good  true Value for money K20 Pro USB cable (Type-C) 18W Wall charger Sim ejector tool Hard plastic case Documentation  Playing PUGB Mobile with maxed game settings on the K20 Pro is a great experience  The screen is bright, vivid and as sharp as the best available options in the segment Performance-wise there is hardly anything to complain about with the Redmi K20 Pro The Redmi K20 Pro camera manages to capture good pictures in most conditions  It has a decent dynamic ran   is as snappy to use as it could be    you can expect similar performance to oneplus 7  Xiaomi generally doesn\\'t do the best cameras but it\\'s impressive on this one  Battery life amazing  Considering the price, it\\'s a bargain  Blacks on the AMOLED screen just blend in with the extremely thin bezels  Overall it can\\'t get better at this price point Value for money killer 😈very big device for a regular user who will switch from a 5 5 inch phone no cons as of now i have not seen adds in miui till nowgood feels snappy  pros design feels premium pocco launcher is smooth display is amazing value for money sd855 is fast as ever games are running seemlessly with any lag  cons in display fingerprint sensor takes a lot of time and too many attempts to unlock low light photos shows pixels and lacks quality popup camera motor makes a wierd noise if you switch off the camera popup tone there should have been an option to include 27w charger for extra bucks  overall loved the mobile   i   CLASSthe premium of premiums   goodAds are going anytime soonBest Phone ever bought  not over priced at all  Also there are no ads in UIOne of the best snapdragon 855 processor phone in India at this much low price  so much flagship features in one phone  Excellent performance of processor, camera, music AI n all  Really value for money  May be Xiaomi can give 27w charger in box instead of separate selling if required than at optional change with normal 18w charger    It will definitely add one more feathers on xiaomi\\'s crown vallue for moneyawesome product in perfect price    awesome phone which can beat oneplusGood Mobile with Good Spec  Feel Premium while holding  Body to Screen ratio is superb  I will recommend the product to my friends  Xiaomi always going great job with great spec with good price range  Flipkart delivered the product in time  Thanks to filpkart & xiaomiExcellent phone  got it delivered by flipkart in 3 days  pubg run on HDR ON Extreme! Settings!only 855 chipset can go there   No lags at allGreat and flawlessJust Don\\'t Like MiUI Personally, Rest Everythings Rockingtotally worth your every penny Best phone on the planetvalue for moneyfastest phone of this year ,the design is next level - beautiful ,camera is little weak ,battery is very good and over all the the best phone of this yearamazing phone for amazing peopleBeat the speed superb performance 👌nice phone but camera is average and speaker would have been better if there will be stereo speakerJust go for itSimply awesome    after 5 days usage camera amazing   no words battery i get around two days with moderate usage  fingerprint response 8/10 case is very slippery   so try to buy another one popup camera motor is slow  but led light and popup sound make us to forget it speed performance no words    i cant feel any lag anywhere overall amazing   definitely a flagship killer love k20 proKiller phone from redmi  Worth buyingThe hype is real  snappy performance  butter smooth display mind blowing 3D design and guess what \"no ads\" its worth the price awesome phone with excellent cameraNo Question, one of the best phones out there  value for money  Loved It loveddd best gift from miphone is good but still have some software bugs little bit more costly     if u get in 26k it\\'s a super phonegoodJust go for itSimply awesome    after 5 days usage camera amazing   no words battery i get around two days with moderate usage  fingerprint response 8/10 case is very slippery   so try to buy another one popup camera motor is slow  but led light and popup sound make us to forget it speed performance no words    i cant feel any lag anywhere overall amazing   definitely a flagship killer love k20 proKiller phone from redmi  Worth buyingThe hype is real  snappy performance  butter smooth display mind blowing 3D design and guess what \"no ads\" its worth the price awesome phone with excellent cameraNo Question, one of the best phones out there  value for money  Loved It loveddd best gift from miphone is good but still have some software bugs little bit more costly     if u get in 26k it\\'s a super phonegoodSuper smooth     Display, camera, charging, battery life, gaming all are too good and best in look  Thanku Redmi!This particular phone is really awesome, in short for its looks, sturdiness, but at this price point this is a not a big deal never ever  It is extremely expensive because its a REDMI not a ONEPLUS OR not a IPHONE so you can consider about ONPLUS 7 for better experience & better performance before you buying REDMI K 20 Pro       And one point to tell you guys, that particular phones red color is not a bright red its look like a PINKISH and feel  only PINK color not a RED color  GOOD LUCK      Very good product in this price   Beautiful design & screen   Awesome phone This is best at it\\'s prize range but I face some touch issue while playing pubg , hope mi fix this on software updatesThis mobile is best at this price with latest processor  I am just wishing if battery was 5000mah then it can beat any phone as of now Pathetic Experience  Device is heating like hell, and be careful as you might be holding a time bomb which might explode anytime soonperformance is excellent and the only drawback I found is camera Both the front and rear camera are not Good as compared to flagships I am totally disappointed about the camera 😔Best flagship phone by Redmi , killer looks with the latest processor SD 855, worth every penny  1)Camera pics are outstanding  2) Oled display is awesome  3) 1 5 days battery life with moderate use of YouTube and what\\'s app  4) Loved the blue colour  Got Rs 2k off as have booked in Alpha Sale   Effective or price Rs 26k   Just go for it Super smooth     Display, camera, charging, battery life, gaming all are too good and best in look  Thanku Redmi!This particular phone is really awesome, in short for its looks, sturdiness, but at this price point this is a not a big deal never ever  It is extremely expensive because its a REDMI not a ONEPLUS OR not a IPHONE so you can consider about ONPLUS 7 for better experience & better performance before you buying REDMI K 20 Pro       And one point to tell you guys, that particular phones red color is not a bright red its look like a PINKISH and feel  only PINK color not a RED color  GOOD LUCK      Very good product in this price   Beautiful design & screen   Awesome phone This is best at it\\'s prize range but I face some touch issue while playing pubg , hope mi fix this on software updatesThis mobile is best at this price with latest processor  I am just wishing if battery was 5000mah then it can beat any phone as of now Pathetic Experience  Device is heating like hell, and be careful as you might be holding a time bomb which might explode anytime soonperformance is excellent and the only drawback I found is camera Both the front and rear camera are not Good as compared to flagships I am totally disappointed about the camera 😔Best flagship phone by Redmi , killer looks with the latest processor SD 855, worth every penny  1)Camera pics are outstanding  2) Oled display is awesome  3) 1 5 days battery life with moderate use of YouTube and what\\'s app  4) Loved the blue colour  Got Rs 2k off as have booked in Alpha Sale   Effective or price Rs 26k   Just go for it overpriced but value for money Really happy with my purchase  Design and build quality is good  compared to Redmik20, Pro version is heavier  Camera performance is ultimate  SD855 is tooo fast  opens all the installed apps in seconds just awesome   \\U0001f970I have purchased this phone in the alpha sale  Firstly about the pricing, even I felt like it was overpriced, but anyway I bought it because I had no other options (didn\\'t want any other phone)  But after using it felt worth the price  I have used this phone for a week now, so I think I can point out some pros and cons of the phone   PS  All the photos are clicked using the GCam mod   PROS   1  The included 18 watt charger seems to be good enough unless you really need to own a faster charger   really awesome experience with one week using this phone good camera, awesome battery backup,nonstop ping awesome performance    not as expected after buygaming performance super charging fast and good battrey backup camera is avg in daylight and worst in low lightFACING MAJOR FRONT CAMER ISSUE  There is some problem with the front camera, see the pictures  The camera is not working properly and have checked with MI support team as well  in case you are using Glacier Blue, let me know if you are facing the problem as well or not  Also the camera has started making some noise as well  See the bottom corner and the blue light as well  This is not a filter guys  It\\'s the Glacier Blue Color camera quality is good battery backup is good phone performance is very smooth beautiful design  best quality smartphone by Redmi REAL FLAGSHIP KILLERThis is my first review on flipkart for any devices I have ever bought  The device look and feel is great, its snappy   Display is a treat to eyes would say Best for mobile devices The colors are accurate  ( 1080P+ will use less battery in comparison to qHD display of sam )  Camera is good and awesome when you use gCAM application ported for Mi9  good colors with HDR+ enabled   The main feature I like was the battery performance  it lost damn 9 5 hrs screen on time for full charge  This is m   To describe it in a single sentence, It is an Amazing mobile with awesome specs at reasonable price  now let me explain you pros and cons      pros  ->Build Quality   this time REDMI did a great job with build quality it comes with corning gorilla glass 5 front and back with aluminium frame so it looks premium when you hold it in hand  ->Display   FHD+ AMOLED display is just beautiful and visual experience is great -> Camera  rear camera(48mp+13mp+8mp) captures great pictures in all the depar   Great value for money phone  best camera and battery battery can run easily 1 5 days with heavy usage as well No doubt about performance as well with SD 855 it\\'s just amazing after two days of use all i can sey battery not up to the mark(drains quickly) but full points to the processor but still got heating problem after 1 or 2 games, build and finish very good, selfie camera in low light not satisfactory  redmi doesn\\'t give any assurance about future updategoodSimply awesome   pros  Display, battery,fast charging,Processor is beast  for PUBG u can play HDR and Extreme   cons  i didn\\'t like its Front camera, making photos so bright and fair, same like Vivo and Oppo phones I have written this review after using this phone for last 1 day  Pros  1  It has a fabulous display  2  It looks really premium in hands  3 When we charge full battery lasts for a day(only if u turn off auto-brightness and dual GPS system)  4  The phone speed is amazing bcz of its 855 processers    Cons  1  It heats up a little bit while charging and after playing two pubg game it heats up litely  2  The camera is good but needs to improve a bit  3  The fingerprint scanner works 8 out of 10    This phone is almost perfect   Few issues though  1) WhatsApp video call doesn\\'t work on full-screen 2) If you are using an app and get a phone call the name of the caller doesn\\'t display , only the phone number does  If anyone has any fixes for these issues kindly helpvalue for moneyJust go for itSimply awesome    after 5 days usage camera amazing   no words battery i get around two days with moderate usage  fingerprint response 8/10 case is very slippery   so try to buy another one popup camera motor is slow  but led light and popup sound make us to forget it speed performance no words    i cant feel any lag anywhere overall amazing   definitely a flagship killer love k20 proKiller phone from redmi  Worth buyingThe hype is real  snappy performance  butter smooth display mind blowing 3D design and guess what \"no ads\" its worth the price awesome phone with excellent cameraNo Question, one of the best phones out there  value for money  Loved It loveddd best gift from miphone is good but still have some software bugs little bit more costly     if u get in 26k it\\'s a super phonegoodoverpriced but value for money Really happy with my purchase  Design and build quality is good  compared to Redmik20, Pro version is heavier  Camera performance is ultimate  SD855 is tooo fast  opens all the installed apps in seconds just awesome   \\U0001f970I have purchased this phone in the alpha sale  Firstly about the pricing, even I felt like it was overpriced, but anyway I bought it because I had no other options (didn\\'t want any other phone)  But after using it felt worth the price  I have used this phone for a week now, so I think I can point out some pros and cons of the phone   PS  All the photos are clicked using the GCam mod   PROS   1  The included 18 watt charger seems to be good enough unless you really need to own a faster charger   really awesome experience with one week using this phone good camera, awesome battery backup,nonstop ping awesome performance    not as expected after buygaming performance super charging fast and good battrey backup camera is avg in daylight and worst in low lightFACING MAJOR FRONT CAMER ISSUE  There is some problem with the front camera, see the pictures  The camera is not working properly and have checked with MI support team as well  in case you are using Glacier Blue, let me know if you are facing the problem as well or not  Also the camera has started making some noise as well  See the bottom corner and the blue light as well  This is not a filter guys  It\\'s the Glacier Blue Color camera quality is good battery backup is good phone performance is very smooth beautiful design  best quality smartphone by Redmi REAL FLAGSHIP KILLERThis is my first review on flipkart for any devices I have ever bought  The device look and feel is great, its snappy   Display is a treat to eyes would say Best for mobile devices The colors are accurate  ( 1080P+ will use less battery in comparison to qHD display of sam )  Camera is good and awesome when you use gCAM application ported for Mi9  good colors with HDR+ enabled   The main feature I like was the battery performance  it lost damn 9 5 hrs screen on time for full charge  This is m   To describe it in a single sentence, It is an Amazing mobile with awesome specs at reasonable price  now let me explain you pros and cons      pros  ->Build Quality   this time REDMI did a great job with build quality it comes with corning gorilla glass 5 front and back with aluminium frame so it looks premium when you hold it in hand  ->Display   FHD+ AMOLED display is just beautiful and visual experience is great -> Camera  rear camera(48mp+13mp+8mp) captures great pictures in all the depar   Great value for money phone  best camera and battery battery can run easily 1 5 days with heavy usage as well No doubt about performance as well with SD 855 it\\'s just amazing after two days of use all i can sey battery not up to the mark(drains quickly) but full points to the processor but still got heating problem after 1 or 2 games, build and finish very good, selfie camera in low light not satisfactory  redmi doesn\\'t give any assurance about future updategoodSimply awesome   pros  Display, battery,fast charging,Processor is beast  for PUBG u can play HDR and Extreme   cons  i didn\\'t like its Front camera, making photos so bright and fair, same like Vivo and Oppo phones I have written this review after using this phone for last 1 day  Pros  1  It has a fabulous display  2  It looks really premium in hands  3 When we charge full battery lasts for a day(only if u turn off auto-brightness and dual GPS system)  4  The phone speed is amazing bcz of its 855 processers    Cons  1  It heats up a little bit while charging and after playing two pubg game it heats up litely  2  The camera is good but needs to improve a bit  3  The fingerprint scanner works 8 out of 10    This phone is almost perfect   Few issues though  1) WhatsApp video call doesn\\'t work on full-screen 2) If you are using an app and get a phone call the name of the caller doesn\\'t display , only the phone number does  If anyone has any fixes for these issues kindly helpvalue for money'"
            ]
          },
          "metadata": {
            "tags": []
          },
          "execution_count": 60
        }
      ]
    },
    {
      "cell_type": "markdown",
      "metadata": {
        "id": "CgXO6jEhs41R",
        "colab_type": "text"
      },
      "source": [
        "## Frequent word count"
      ]
    },
    {
      "cell_type": "code",
      "metadata": {
        "id": "AIVf06dre4Zr",
        "colab_type": "code",
        "outputId": "f859c3b3-86f1-42e6-f99d-78ead3e04f9e",
        "colab": {
          "base_uri": "https://localhost:8080/",
          "height": 54
        }
      },
      "source": [
        "from collections import Counter \n",
        "split_it = strobj.split()\n",
        "Counter = Counter(split_it) \n",
        "most_occur = Counter.most_common(50) \n",
        "  \n",
        "print(most_occur) \n"
      ],
      "execution_count": 0,
      "outputs": [
        {
          "output_type": "stream",
          "text": [
            "[('is', 460), ('the', 296), ('and', 263), ('phone', 184), ('for', 172), ('in', 170), ('a', 159), ('good', 150), ('I', 147), ('this', 144), ('with', 141), ('of', 139), ('camera', 137), ('it', 133), ('to', 132), ('but', 90), ('not', 83), ('performance', 76), ('display', 73), ('are', 71), ('you', 71), ('best', 70), ('very', 69), ('on', 68), ('awesome', 67), ('as', 66), ('The', 60), ('have', 59), ('battery', 54), ('price', 53), ('be', 50), ('can', 49), ('at', 48), ('that', 47), ('quality', 47), ('so', 47), ('fast', 46), ('no', 46), ('like', 44), ('i', 43), ('-', 41), ('its', 41), ('just', 40), ('really', 40), ('flagship', 40), ('one', 40), ('money', 38), ('my', 36), ('will', 35), ('great', 35)]\n"
          ],
          "name": "stdout"
        }
      ]
    },
    {
      "cell_type": "markdown",
      "metadata": {
        "id": "rysKat3ehJ1g",
        "colab_type": "text"
      },
      "source": [
        "## Flitering +Ve word count"
      ]
    },
    {
      "cell_type": "code",
      "metadata": {
        "id": "gPjTlLXYhONd",
        "colab_type": "code",
        "outputId": "7e3d01c0-14df-4c56-8e79-05ae89d46cb7",
        "colab": {
          "base_uri": "https://localhost:8080/",
          "height": 34
        }
      },
      "source": [
        "pcount =[]\n",
        "for item in most_occur:\n",
        "  if (item[0]) == 'awesome' or (item[0]) == 'best' or (item[0]) == 'good' or (item[0]) == 'nice' or (item[0]) == 'pro' or (item[0]) == 'like' or (item[0]) == 'great':\n",
        "    pcount.append(item)\n",
        "\n",
        "    \n",
        "pcount   "
      ],
      "execution_count": 0,
      "outputs": [
        {
          "output_type": "execute_result",
          "data": {
            "text/plain": [
              "[('good', 150), ('best', 70), ('awesome', 67), ('like', 44), ('great', 35)]"
            ]
          },
          "metadata": {
            "tags": []
          },
          "execution_count": 67
        }
      ]
    },
    {
      "cell_type": "markdown",
      "metadata": {
        "id": "mVZNHFi9jmsO",
        "colab_type": "text"
      },
      "source": [
        "## Rating count"
      ]
    },
    {
      "cell_type": "code",
      "metadata": {
        "id": "p61n-zowZ5Ic",
        "colab_type": "code",
        "outputId": "c00ab3a1-f7b0-4012-98bf-5d883cd08ab1",
        "colab": {
          "base_uri": "https://localhost:8080/",
          "height": 204
        }
      },
      "source": [
        "wordCountTable = pd.DataFrame(pcount, columns = ['Word' , 'Count'])\n",
        "#wordCountTable = wordCountTable.sort_values(by ='Count' )\n",
        "wordCountTable"
      ],
      "execution_count": 0,
      "outputs": [
        {
          "output_type": "execute_result",
          "data": {
            "text/html": [
              "<div>\n",
              "<style scoped>\n",
              "    .dataframe tbody tr th:only-of-type {\n",
              "        vertical-align: middle;\n",
              "    }\n",
              "\n",
              "    .dataframe tbody tr th {\n",
              "        vertical-align: top;\n",
              "    }\n",
              "\n",
              "    .dataframe thead th {\n",
              "        text-align: right;\n",
              "    }\n",
              "</style>\n",
              "<table border=\"1\" class=\"dataframe\">\n",
              "  <thead>\n",
              "    <tr style=\"text-align: right;\">\n",
              "      <th></th>\n",
              "      <th>Word</th>\n",
              "      <th>Count</th>\n",
              "    </tr>\n",
              "  </thead>\n",
              "  <tbody>\n",
              "    <tr>\n",
              "      <th>0</th>\n",
              "      <td>good</td>\n",
              "      <td>150</td>\n",
              "    </tr>\n",
              "    <tr>\n",
              "      <th>1</th>\n",
              "      <td>best</td>\n",
              "      <td>70</td>\n",
              "    </tr>\n",
              "    <tr>\n",
              "      <th>2</th>\n",
              "      <td>awesome</td>\n",
              "      <td>67</td>\n",
              "    </tr>\n",
              "    <tr>\n",
              "      <th>3</th>\n",
              "      <td>like</td>\n",
              "      <td>44</td>\n",
              "    </tr>\n",
              "    <tr>\n",
              "      <th>4</th>\n",
              "      <td>great</td>\n",
              "      <td>35</td>\n",
              "    </tr>\n",
              "  </tbody>\n",
              "</table>\n",
              "</div>"
            ],
            "text/plain": [
              "      Word  Count\n",
              "0     good    150\n",
              "1     best     70\n",
              "2  awesome     67\n",
              "3     like     44\n",
              "4    great     35"
            ]
          },
          "metadata": {
            "tags": []
          },
          "execution_count": 68
        }
      ]
    },
    {
      "cell_type": "code",
      "metadata": {
        "id": "0p8VPiB0jvLa",
        "colab_type": "code",
        "outputId": "a11ce9f6-9d1d-49ce-9b83-bc8d0905ffdd",
        "colab": {
          "base_uri": "https://localhost:8080/",
          "height": 136
        }
      },
      "source": [
        "RatingCount=dataset.groupby('Rating').size()\n",
        "RatingCount\n"
      ],
      "execution_count": 0,
      "outputs": [
        {
          "output_type": "execute_result",
          "data": {
            "text/plain": [
              "Rating\n",
              "1     13\n",
              "2      7\n",
              "3     30\n",
              "4     52\n",
              "5    308\n",
              "dtype: int64"
            ]
          },
          "metadata": {
            "tags": []
          },
          "execution_count": 64
        }
      ]
    },
    {
      "cell_type": "markdown",
      "metadata": {
        "id": "gB1OjeKt_3wR",
        "colab_type": "text"
      },
      "source": [
        "## Forming master table"
      ]
    },
    {
      "cell_type": "code",
      "metadata": {
        "id": "tSAmzzXe_-MM",
        "colab_type": "code",
        "outputId": "f4bca7fa-7ae9-4bbc-9e37-271fcc942a29",
        "colab": {
          "base_uri": "https://localhost:8080/",
          "height": 204
        }
      },
      "source": [
        "Rating = [1,2,3,4,5]\n",
        "RatingCount = [13,7,30,52,308]\n",
        "MasterTable= wordCountTable\n",
        "MasterTable[\"Rating\"] = Rating\n",
        "MasterTable[\"RatingCount\"] = RatingCount\n",
        "MasterTable[\"Product\"] = \"Redmi Note 7 Pro\"\n",
        "MasterTable[\"Brand\"] = \"MI\"\n",
        "MasterTable[\"Price\"] = 13999\n",
        "MasterTable[\"Availability\"] = \"Yes\"\n",
        "MasterTable[\"Offer\"] = \"12% Off\"\n",
        "\n",
        "MasterTable"
      ],
      "execution_count": 0,
      "outputs": [
        {
          "output_type": "execute_result",
          "data": {
            "text/html": [
              "<div>\n",
              "<style scoped>\n",
              "    .dataframe tbody tr th:only-of-type {\n",
              "        vertical-align: middle;\n",
              "    }\n",
              "\n",
              "    .dataframe tbody tr th {\n",
              "        vertical-align: top;\n",
              "    }\n",
              "\n",
              "    .dataframe thead th {\n",
              "        text-align: right;\n",
              "    }\n",
              "</style>\n",
              "<table border=\"1\" class=\"dataframe\">\n",
              "  <thead>\n",
              "    <tr style=\"text-align: right;\">\n",
              "      <th></th>\n",
              "      <th>Word</th>\n",
              "      <th>Count</th>\n",
              "      <th>Rating</th>\n",
              "      <th>RatingCount</th>\n",
              "      <th>Product</th>\n",
              "      <th>Brand</th>\n",
              "      <th>Price</th>\n",
              "      <th>Availability</th>\n",
              "      <th>Offer</th>\n",
              "    </tr>\n",
              "  </thead>\n",
              "  <tbody>\n",
              "    <tr>\n",
              "      <th>0</th>\n",
              "      <td>good</td>\n",
              "      <td>150</td>\n",
              "      <td>1</td>\n",
              "      <td>13</td>\n",
              "      <td>Redmi Note 7 Pro</td>\n",
              "      <td>MI</td>\n",
              "      <td>13999</td>\n",
              "      <td>Yes</td>\n",
              "      <td>12% Off</td>\n",
              "    </tr>\n",
              "    <tr>\n",
              "      <th>1</th>\n",
              "      <td>best</td>\n",
              "      <td>70</td>\n",
              "      <td>2</td>\n",
              "      <td>7</td>\n",
              "      <td>Redmi Note 7 Pro</td>\n",
              "      <td>MI</td>\n",
              "      <td>13999</td>\n",
              "      <td>Yes</td>\n",
              "      <td>12% Off</td>\n",
              "    </tr>\n",
              "    <tr>\n",
              "      <th>2</th>\n",
              "      <td>awesome</td>\n",
              "      <td>67</td>\n",
              "      <td>3</td>\n",
              "      <td>30</td>\n",
              "      <td>Redmi Note 7 Pro</td>\n",
              "      <td>MI</td>\n",
              "      <td>13999</td>\n",
              "      <td>Yes</td>\n",
              "      <td>12% Off</td>\n",
              "    </tr>\n",
              "    <tr>\n",
              "      <th>3</th>\n",
              "      <td>like</td>\n",
              "      <td>44</td>\n",
              "      <td>4</td>\n",
              "      <td>52</td>\n",
              "      <td>Redmi Note 7 Pro</td>\n",
              "      <td>MI</td>\n",
              "      <td>13999</td>\n",
              "      <td>Yes</td>\n",
              "      <td>12% Off</td>\n",
              "    </tr>\n",
              "    <tr>\n",
              "      <th>4</th>\n",
              "      <td>great</td>\n",
              "      <td>35</td>\n",
              "      <td>5</td>\n",
              "      <td>308</td>\n",
              "      <td>Redmi Note 7 Pro</td>\n",
              "      <td>MI</td>\n",
              "      <td>13999</td>\n",
              "      <td>Yes</td>\n",
              "      <td>12% Off</td>\n",
              "    </tr>\n",
              "  </tbody>\n",
              "</table>\n",
              "</div>"
            ],
            "text/plain": [
              "      Word  Count  Rating  RatingCount  ... Brand  Price  Availability    Offer\n",
              "0     good    150       1           13  ...    MI  13999           Yes  12% Off\n",
              "1     best     70       2            7  ...    MI  13999           Yes  12% Off\n",
              "2  awesome     67       3           30  ...    MI  13999           Yes  12% Off\n",
              "3     like     44       4           52  ...    MI  13999           Yes  12% Off\n",
              "4    great     35       5          308  ...    MI  13999           Yes  12% Off\n",
              "\n",
              "[5 rows x 9 columns]"
            ]
          },
          "metadata": {
            "tags": []
          },
          "execution_count": 69
        }
      ]
    }
  ]
}